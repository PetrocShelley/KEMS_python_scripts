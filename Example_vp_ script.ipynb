{
 "cells": [
  {
   "cell_type": "code",
   "execution_count": 4,
   "metadata": {},
   "outputs": [
    {
     "name": "stdout",
     "output_type": "stream",
     "text": [
      "Pressure: 2.4909208547e-05\n"
     ]
    }
   ],
   "source": [
    "import numpy as np # import the numpy package\n",
    "\n",
    "R = np.loadtxt(\"malonic_acid_25c.asc\", skiprows=2581) # read in reference starting at m/z = 41\n",
    "B_R = np.loadtxt(\"malonic_acid_background.asc\", skiprows=14100) # read in reference background value\n",
    "S = np.loadtxt(\"mannitol_25c.asc\", skiprows=2581) # read in sample starting at m/z = 41\n",
    "B_S = np.loadtxt(\"mannitol_gate_open.asc\", skiprows=14100) # read in sample backgorund\n",
    "\n",
    "T = 298 # temperature of run\n",
    "ICSR = 12.457 # ionisation cross section of reference\n",
    "ICSS = 23.136 # ionisation cross section of sample\n",
    "\n",
    "MZ = R[:,0] # mass charge ratio as a vector used for both reference and sample integrations\n",
    "RIC = R[:,1] # reference ion current as a vector\n",
    "B_RIC = B_R[1] # background ion current\n",
    "CRIC = RIC - B_RIC # corrected reference ion current\n",
    "INT = np.trapz(CRIC,MZ) # integral of reference ion current\n",
    "PR = np.exp(-11058.97/T+29.54) # pressure of reference values of this step are specific to malonic acid as a reference and would need to be changed if another reference was used\n",
    "CF = PR/(INT/ICSR) # correction factor\n",
    "SIC = S[:,1] # sample ion current as a vector\n",
    "B_SIC = B_S[1] # background sample ion current\n",
    "CSIC = SIC - B_SIC # corrected sample ion current\n",
    "SINT = np.trapz(CSIC,MZ) # sample integral of the ion current\n",
    "PS = CF*(SINT/ICSS) # pressure of sample compound\n",
    "\n",
    "print('Pressure:', PS)"
   ]
  },
  {
   "cell_type": "code",
   "execution_count": null,
   "metadata": {
    "collapsed": true
   },
   "outputs": [],
   "source": []
  }
 ],
 "metadata": {
  "kernelspec": {
   "display_name": "Python 3",
   "language": "python",
   "name": "python3"
  },
  "language_info": {
   "codemirror_mode": {
    "name": "ipython",
    "version": 3
   },
   "file_extension": ".py",
   "mimetype": "text/x-python",
   "name": "python",
   "nbconvert_exporter": "python",
   "pygments_lexer": "ipython3",
   "version": "3.6.2"
  }
 },
 "nbformat": 4,
 "nbformat_minor": 2
}
