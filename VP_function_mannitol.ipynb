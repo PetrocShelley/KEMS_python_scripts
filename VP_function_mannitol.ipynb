{
 "cells": [
  {
   "cell_type": "code",
   "execution_count": 4,
   "metadata": {},
   "outputs": [
    {
     "data": {
      "image/png": "[encoded data removed]",
      "text/plain": [
       "<matplotlib.figure.Figure at 0xa1df208>"
      ]
     },
     "metadata": {},
     "output_type": "display_data"
    },
    {
     "name": "stdout",
     "output_type": "stream",
     "text": [
      "gradient: -14192.4097826\n",
      "intercept 36.8926843536\n",
      "r-squared: 0.992585070338\n",
      "delHsub: 117.995694933\n",
      "delSsub: 306.725777716\n",
      "P298: 2.18163290496e-05\n"
     ]
    }
   ],
   "source": [
    "import numpy as np\n",
    "import matplotlib.pyplot as plt\n",
    "def VP_function (R, B_R, S, B_S, T, ICSR, ICSS):\n",
    "    MZ = R[:,0]\n",
    "    RIC = R[:,1]\n",
    "    B_RIC = B_R[1]\n",
    "    CRIC = RIC - B_RIC\n",
    "    INT = np.trapz(CRIC,MZ)\n",
    "    PR = np.exp(-11058.97/T+29.54)\n",
    "    CF = PR/(INT/ICSR)\n",
    "    SIC = S[:,1]\n",
    "    B_SIC = B_S[1]\n",
    "    CSIC = SIC-B_SIC\n",
    "    SINT = np.trapz(CSIC,MZ)\n",
    "    PS = CF*(SINT/ICSS)\n",
    "    return PS\n",
    "\n",
    "T1 = 298\n",
    "T2 = 303\n",
    "T3 = 308\n",
    "T4 = 313\n",
    "T5 = 318\n",
    "T6 = 323\n",
    "\n",
    "PS25 = VP_function(np.loadtxt(\"malonic_acid_25c.asc\", skiprows=2581), np.loadtxt(\"malonic_acid_background.asc\", skiprows=14100), np.loadtxt(\"mannitol_25c.asc\", skiprows=2581), np.loadtxt(\"mannitol_gate_open.asc\", skiprows=14100), T1, 12.457, 23.136)\n",
    "PS30 = VP_function(np.loadtxt(\"malonic_acid_30c.asc\", skiprows=2581), np.loadtxt(\"malonic_acid_background.asc\", skiprows=14100), np.loadtxt(\"mannitol_30c.asc\", skiprows=2581), np.loadtxt(\"mannitol_gate_open.asc\", skiprows=14100), T2, 12.457, 23.136)\n",
    "PS35 = VP_function(np.loadtxt(\"malonic_acid_35c.asc\", skiprows=2581), np.loadtxt(\"malonic_acid_background.asc\", skiprows=14100), np.loadtxt(\"mannitol_35c.asc\", skiprows=2581), np.loadtxt(\"mannitol_gate_open.asc\", skiprows=14100), T3, 12.457, 23.136)\n",
    "PS40 = VP_function(np.loadtxt(\"malonic_acid_40c.asc\", skiprows=2581), np.loadtxt(\"malonic_acid_background.asc\", skiprows=14100), np.loadtxt(\"mannitol_40c.asc\", skiprows=2581), np.loadtxt(\"mannitol_gate_open.asc\", skiprows=14100), T4, 12.457, 23.136)\n",
    "PS45 = VP_function(np.loadtxt(\"malonic_acid_45c.asc\", skiprows=2581), np.loadtxt(\"malonic_acid_background.asc\", skiprows=14100), np.loadtxt(\"mannitol_45c.asc\", skiprows=2581), np.loadtxt(\"mannitol_gate_open.asc\", skiprows=14100), T5, 12.457, 23.136)\n",
    "PS50 = VP_function(np.loadtxt(\"malonic_acid_50c.asc\", skiprows=2581), np.loadtxt(\"malonic_acid_background.asc\", skiprows=14100), np.loadtxt(\"mannitol_50c.asc\", skiprows=2581), np.loadtxt(\"mannitol_gate_open.asc\", skiprows=14100), T6, 12.457, 23.136)\n",
    "\n",
    "X =[1/T1, 1/T2, 1/T3, 1/T4, 1/T5, 1/T6]\n",
    "Y=[np.log(PS25), np.log(PS30), np.log(PS35), np.log(PS40), np.log(PS45), np.log(PS50)]\n",
    "import scipy.stats\n",
    "slope, intercept, r_value, P_value, std_err = scipy.stats.linregress(X,Y)\n",
    "x = np.array([1/T1, 1/T2, 1/T3, 1/T4, 1/T5, 1/T6])\n",
    "y = np.array([np.log(PS25), np.log(PS30), np.log(PS35), np.log(PS40), np.log(PS45), np.log(PS50)])\n",
    "A = np.vstack([x, np.ones(len(x))]).T\n",
    "m, c = np.linalg.lstsq(A, y)[0]\n",
    "plt.plot(x, y, 'o')\n",
    "plt.plot(x, m*x + c, 'r')\n",
    "plt.show()\n",
    "\n",
    "print('gradient:', m) \n",
    "print('intercept', c)\n",
    "print('r-squared:', r_value*r_value)\n",
    "R =  8.314\n",
    "delHsub = R/1000*-m\n",
    "delSsub = R*c\n",
    "P298 = np.exp(-delHsub*1000/(R*298)+delSsub/R)\n",
    "print('delHsub:', delHsub)\n",
    "print('delSsub:', delSsub)\n",
    "print('P298:', P298)"
   ]
  },
  {
   "cell_type": "code",
   "execution_count": null,
   "metadata": {
    "collapsed": true
   },
   "outputs": [],
   "source": []
  }
 ],
 "metadata": {
  "kernelspec": {
   "display_name": "Python 3",
   "language": "python",
   "name": "python3"
  },
  "language_info": {
   "codemirror_mode": {
    "name": "ipython",
    "version": 3
   },
   "file_extension": ".py",
   "mimetype": "text/x-python",
   "name": "python",
   "nbconvert_exporter": "python",
   "pygments_lexer": "ipython3",
   "version": "3.6.2"
  }
 },
 "nbformat": 4,
 "nbformat_minor": 2
}
