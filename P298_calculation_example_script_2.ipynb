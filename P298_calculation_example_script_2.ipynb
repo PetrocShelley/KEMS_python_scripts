{
 "cells": [
  {
   "cell_type": "code",
   "execution_count": 2,
   "metadata": {
    "scrolled": true
   },
   "outputs": [
    {
     "name": "stdout",
     "output_type": "stream",
     "text": [
      "pressure at 25C: 3.806326458e-05\n",
      "pressure at 30C: 5.91815149207e-05\n",
      "pressure at 35C: 9.94657284821e-05\n",
      "pressure at 40C: 0.000211929770774\n",
      "pressure at 45C: 0.000636222779795\n"
     ]
    },
    {
     "data": {
      "image/png": "[encoded data removed]",
      "text/plain": [
       "<matplotlib.figure.Figure at 0x5950a90>"
      ]
     },
     "metadata": {},
     "output_type": "display_data"
    },
    {
     "name": "stdout",
     "output_type": "stream",
     "text": [
      "gradient: -13042.6651786\n",
      "intercept 33.3794396145\n",
      "r-squared: 0.956424609781\n",
      "delHsub: 108.436718295\n",
      "delSsub: 277.516660955\n",
      "P298: 3.08031623462e-05\n"
     ]
    }
   ],
   "source": [
    "import numpy as np\n",
    "import matplotlib.pyplot as plt\n",
    "import scipy.stats  # Import the required packages\n",
    "\n",
    "def VP_function (R, B_R, S, B_S, T, ICSR, ICSS): # function to calculate pressure of sample at a given temperature\n",
    "    MZ = R[:,0]                                  # mass charge ratio \n",
    "    RIC = R[:,1]                                 # reference ion current\n",
    "    B_RIC = B_R[1]                               # background reading of the reference ion current\n",
    "    CRIC = RIC - B_RIC                           # corrected reference ion current\n",
    "    INT = np.trapz(CRIC,MZ)                      # integral of the reference ion current\n",
    "    PR = np.exp(-11058.97/T+29.54)               # pressure of reference at given temperature. NOTE: -11058.97 and 29.54 are specific to malonic acid as a reference and will change depending on the reference used\n",
    "    CF = PR/(INT/ICSR)                           # correction factor\n",
    "    SIC = S[:,1]                                 # sample ion current\n",
    "    B_SIC = B_S[1]                               # background reading of the sample ion current\n",
    "    CSIC = SIC-B_SIC                             # corrected sample ion current\n",
    "    SINT = np.trapz(CSIC,MZ)                     # integral of ther sample ion current\n",
    "    PS = CF*(SINT/ICSS)                          # pressure of sample\n",
    "    return PS\n",
    "\n",
    "# R is reference run using the np.loadtxt to read in and skiprows to start at m/z41\n",
    "# B_R is the background reading for R\n",
    "# S is the sample run, B_S is the background of the sample\n",
    "# T is the temperature of the run\n",
    "# ICSR and ICSS are the ionisation cross sections of the reference and the sample respectively\n",
    "\n",
    "T1 = 298 # temperature of run 1 \n",
    "T2 = 303 # temperature of run 2 ect...\n",
    "T3 = 308\n",
    "T4 = 313\n",
    "T5 = 318\n",
    "\n",
    "PS25 = VP_function(np.loadtxt(\"malonic_acid_25c.asc\", skiprows=2581), np.loadtxt(\"malonic_acid_background.asc\", skiprows=14100), np.loadtxt(\"xylitol_25c.asc\", skiprows=2581), np.loadtxt(\"xylitol_gateopen.asc\", skiprows=14100), T1, 12.457, 19.376)\n",
    "PS30 = VP_function(np.loadtxt(\"malonic_acid_30c.asc\", skiprows=2581), np.loadtxt(\"malonic_acid_background.asc\", skiprows=14100), np.loadtxt(\"xylitol_30c.asc\", skiprows=2581), np.loadtxt(\"xylitol_gateopen.asc\", skiprows=14100), T2, 12.457, 19.376)\n",
    "PS35 = VP_function(np.loadtxt(\"malonic_acid_35c.asc\", skiprows=2581), np.loadtxt(\"malonic_acid_background.asc\", skiprows=14100), np.loadtxt(\"xylitol_35c.asc\", skiprows=2581), np.loadtxt(\"xylitol_gateopen.asc\", skiprows=14100), T3, 12.457, 19.376)\n",
    "PS40 = VP_function(np.loadtxt(\"malonic_acid_40c.asc\", skiprows=2581), np.loadtxt(\"malonic_acid_background.asc\", skiprows=14100), np.loadtxt(\"xylitol_40c.asc\", skiprows=2581), np.loadtxt(\"xylitol_gateopen.asc\", skiprows=14100), T4, 12.457, 19.376)\n",
    "PS45 = VP_function(np.loadtxt(\"malonic_acid_45c.asc\", skiprows=2581), np.loadtxt(\"malonic_acid_background.asc\", skiprows=14100), np.loadtxt(\"xylitol_45c.asc\", skiprows=2581), np.loadtxt(\"xylitol_gateopen.asc\", skiprows=14100), T5, 12.457, 19.376)\n",
    "# PS25 is pressure of sample at 25C using the VP_function function\n",
    "\n",
    "print('pressure at 25C:', PS25) # prints the pressure at 25C\n",
    "print('pressure at 30C:', PS30) # prints the pressure at 30C ect...\n",
    "print('pressure at 35C:', PS35)\n",
    "print('pressure at 40C:', PS40)\n",
    "print('pressure at 45C:', PS45)\n",
    "\n",
    "X =[1/T1, 1/T2, 1/T3, 1/T4, 1/T5] # creates vector of one over temperature\n",
    "Y=[np.log(PS25), np.log(PS30), np.log(PS35), np.log(PS40), np.log(PS45)] # creates vector of the natural log of the pressure\n",
    "slope, intercept, r_value, P_value, std_err = scipy.stats.linregress(X,Y) # gives slope, intercept, correlation coefficient, P value for statistical tests and standard error of the regression\n",
    "\n",
    "x = np.array([1/T1, 1/T2, 1/T3, 1/T4, 1/T5]) # creates numpy array of one over temperature\n",
    "y = np.array([np.log(PS25), np.log(PS30), np.log(PS35), np.log(PS40), np.log(PS45)]) # creates numpy array of the natural log of the pressure\n",
    "A = np.vstack([x, np.ones(len(x))]).T\n",
    "m, c = np.linalg.lstsq(A, y)[0] # m = gradient c =intercept\n",
    "plt.plot(x, y, 'o') # plots scatter plot of 1/T vs ln(P)\n",
    "plt.plot(x, m*x + c, 'r') # plots linear regression line \n",
    "plt.xlabel('1/T')\n",
    "plt.ylabel('ln(P)')\n",
    "plt.show() # gives graph with original points and linear regression line\n",
    "\n",
    "print('gradient:', m) \n",
    "print('intercept', c)\n",
    "print('r-squared:', r_value*r_value)\n",
    "\n",
    "R =  8.314 # ideal gas constant\n",
    "delHsub = R/1000*-m # calculate sublimation enthalpy\n",
    "delSsub = R*c # calculate sublimation entropy\n",
    "P298 = np.exp(-delHsub*1000/(R*298)+delSsub/R) # calculate P298 of sample\n",
    "\n",
    "print('delHsub:', delHsub)\n",
    "print('delSsub:', delSsub)\n",
    "print('P298:', P298)"
   ]
  },
  {
   "cell_type": "code",
   "execution_count": null,
   "metadata": {
    "collapsed": true
   },
   "outputs": [],
   "source": []
  }
 ],
 "metadata": {
  "kernelspec": {
   "display_name": "Python 3",
   "language": "python",
   "name": "python3"
  },
  "language_info": {
   "codemirror_mode": {
    "name": "ipython",
    "version": 3
   },
   "file_extension": ".py",
   "mimetype": "text/x-python",
   "name": "python",
   "nbconvert_exporter": "python",
   "pygments_lexer": "ipython3",
   "version": "3.6.2"
  }
 },
 "nbformat": 4,
 "nbformat_minor": 2
}
